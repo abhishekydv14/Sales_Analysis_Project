{
  "nbformat": 4,
  "nbformat_minor": 0,
  "metadata": {
    "colab": {
      "provenance": [],
      "authorship_tag": "ABX9TyPlPGVjYIM3Li2D9+2agjZY",
      "include_colab_link": true
    },
    "kernelspec": {
      "name": "python3",
      "display_name": "Python 3"
    },
    "language_info": {
      "name": "python"
    }
  },
  "cells": [
    {
      "cell_type": "markdown",
      "metadata": {
        "id": "view-in-github",
        "colab_type": "text"
      },
      "source": [
        "<a href=\"https://colab.research.google.com/github/abhishekydv14/Sales_Analysis_Project/blob/main/Analysis.ipynb\" target=\"_parent\"><img src=\"https://colab.research.google.com/assets/colab-badge.svg\" alt=\"Open In Colab\"/></a>"
      ]
    },
    {
      "cell_type": "code",
      "execution_count": 1,
      "metadata": {
        "colab": {
          "base_uri": "https://localhost:8080/"
        },
        "id": "r6sEy-bbvNhe",
        "outputId": "6dce11ee-f381-4e3d-f3a5-c9560a2eeded"
      },
      "outputs": [
        {
          "output_type": "stream",
          "name": "stdout",
          "text": [
            "Mounted at /content/drive\n"
          ]
        }
      ],
      "source": [
        "from google.colab import drive\n",
        "drive.mount('/content/drive')"
      ]
    },
    {
      "cell_type": "code",
      "source": [
        "import pandas as pd\n",
        "file_path = '/content/drive/MyDrive/My Data Analytics Project/superstore.csv'\n",
        "df = pd.read_csv(file_path)\n",
        "# --- DATA CLEANING ---\n",
        "df['Order Date'] = pd.to_datetime(df['Order.Date'])\n",
        "print(\"Data has been loaded and cleaned successfully!\")\n",
        "df.info()"
      ],
      "metadata": {
        "colab": {
          "base_uri": "https://localhost:8080/"
        },
        "id": "Hrp4K4CjvSk-",
        "outputId": "5db5c58f-8f19-488e-ddf8-8406a3d2957a"
      },
      "execution_count": 3,
      "outputs": [
        {
          "output_type": "stream",
          "name": "stdout",
          "text": [
            "Data has been loaded and cleaned successfully!\n",
            "<class 'pandas.core.frame.DataFrame'>\n",
            "RangeIndex: 51290 entries, 0 to 51289\n",
            "Data columns (total 28 columns):\n",
            " #   Column          Non-Null Count  Dtype         \n",
            "---  ------          --------------  -----         \n",
            " 0   Category        51290 non-null  object        \n",
            " 1   City            51290 non-null  object        \n",
            " 2   Country         51290 non-null  object        \n",
            " 3   Customer.ID     51290 non-null  object        \n",
            " 4   Customer.Name   51290 non-null  object        \n",
            " 5   Discount        51290 non-null  float64       \n",
            " 6   Market          51290 non-null  object        \n",
            " 7   记录数             51290 non-null  int64         \n",
            " 8   Order.Date      51290 non-null  object        \n",
            " 9   Order.ID        51290 non-null  object        \n",
            " 10  Order.Priority  51290 non-null  object        \n",
            " 11  Product.ID      51290 non-null  object        \n",
            " 12  Product.Name    51290 non-null  object        \n",
            " 13  Profit          51290 non-null  float64       \n",
            " 14  Quantity        51290 non-null  int64         \n",
            " 15  Region          51290 non-null  object        \n",
            " 16  Row.ID          51290 non-null  int64         \n",
            " 17  Sales           51290 non-null  int64         \n",
            " 18  Segment         51290 non-null  object        \n",
            " 19  Ship.Date       51290 non-null  object        \n",
            " 20  Ship.Mode       51290 non-null  object        \n",
            " 21  Shipping.Cost   51290 non-null  float64       \n",
            " 22  State           51290 non-null  object        \n",
            " 23  Sub.Category    51290 non-null  object        \n",
            " 24  Year            51290 non-null  int64         \n",
            " 25  Market2         51290 non-null  object        \n",
            " 26  weeknum         51290 non-null  int64         \n",
            " 27  Order Date      51290 non-null  datetime64[ns]\n",
            "dtypes: datetime64[ns](1), float64(3), int64(6), object(18)\n",
            "memory usage: 11.0+ MB\n"
          ]
        }
      ]
    },
    {
      "cell_type": "code",
      "source": [
        "# --- ANALYSIS 1: PRODUCT PROFITABILITY ---\n",
        "profit_by_product = df.groupby('Product.Name')['Profit'].sum()\n",
        "\n",
        "top_15_products = profit_by_product.nlargest(15)\n",
        "\n",
        "# 3. Print the result.\n",
        "print(\"--- Top 15 Most Profitable Products ---\")\n",
        "print(top_15_products)"
      ],
      "metadata": {
        "colab": {
          "base_uri": "https://localhost:8080/"
        },
        "id": "F70Vct-Dvhj6",
        "outputId": "ae99a8ee-e4be-44ec-a916-316c501e08e5"
      },
      "execution_count": 4,
      "outputs": [
        {
          "output_type": "stream",
          "name": "stdout",
          "text": [
            "--- Top 15 Most Profitable Products ---\n",
            "Product.Name\n",
            "Canon imageCLASS 2200 Advanced Copier                                          25199.92800\n",
            "Cisco Smart Phone, Full Size                                                   17238.52060\n",
            "Motorola Smart Phone, Full Size                                                17027.11300\n",
            "Hoover Stove, Red                                                              11807.96900\n",
            "Sauder Classic Bookcase, Traditional                                           10672.07300\n",
            "Harbour Creations Executive Leather Armchair, Adjustable                       10427.32600\n",
            "Nokia Smart Phone, Full Size                                                    9938.19550\n",
            "Cisco Smart Phone, with Caller ID                                               9786.64080\n",
            "Nokia Smart Phone, with Caller ID                                               9465.32570\n",
            "Belkin Router, USB                                                              8955.01800\n",
            "Hewlett Wireless Fax, High-Speed                                                8677.93914\n",
            "Canon Wireless Fax, Laser                                                       7991.54792\n",
            "Fellowes PB500 Electric Punch Plastic Comb Binding Machine with Manual Bind     7753.03900\n",
            "Memorex Router, Erganomic                                                       7468.18400\n",
            "SAFCO Executive Leather Armchair, Black                                         7154.28000\n",
            "Name: Profit, dtype: float64\n"
          ]
        }
      ]
    },
    {
      "cell_type": "code",
      "source": [
        "# VERIFY THE KEY INSIGHT ---\n",
        "\n",
        "profit_by_product_sorted = df.groupby('Product.Name')['Profit'].sum().sort_values(ascending=False)\n",
        "\n",
        "\n",
        "total_profit = df['Profit'].sum()\n",
        "\n",
        "#  top 15%\n",
        "num_products = len(profit_by_product_sorted)\n",
        "top_15_percent_count = int(num_products * 0.15)\n",
        "\n",
        "\n",
        "profit_from_top_15_percent = profit_by_product_sorted.head(top_15_percent_count).sum()\n",
        "\n",
        "percentage_from_top_15 = (profit_from_top_15_percent / total_profit) * 100\n",
        "\n",
        "# Print the final, correct results\n",
        "print(f\"Percentage of total profit from top 15% of products: {percentage_from_top_15:.2f}%\")"
      ],
      "metadata": {
        "colab": {
          "base_uri": "https://localhost:8080/"
        },
        "id": "iYs-Wls9vq_k",
        "outputId": "06de79dd-28d8-4f63-b64e-e028380124ab"
      },
      "execution_count": 5,
      "outputs": [
        {
          "output_type": "stream",
          "name": "stdout",
          "text": [
            "Percentage of total profit from top 15% of products: 84.61%\n"
          ]
        }
      ]
    },
    {
      "cell_type": "code",
      "source": [
        "# --- ANALYSIS 3: REGIONAL PERFORMANCE ---\n",
        "\n",
        "regional_performance = df.groupby('Region')[['Sales', 'Profit']].sum()\n",
        "\n",
        "# Calculate the Profit Margin (Profit / Sales) for each region.\n",
        "\n",
        "regional_performance['Profit Margin'] = (regional_performance['Profit'] / regional_performance['Sales']) * 100\n",
        "\n",
        "regional_performance = regional_performance.sort_values(by='Profit Margin', ascending=False)\n",
        "\n",
        "print(\"Regional Performance (Sorted by Profit Margin) -\")\n",
        "print(regional_performance)"
      ],
      "metadata": {
        "colab": {
          "base_uri": "https://localhost:8080/"
        },
        "id": "gAHORdpzv5Zd",
        "outputId": "af6af975-9f07-4751-b777-778b95e5947e"
      },
      "execution_count": 6,
      "outputs": [
        {
          "output_type": "stream",
          "name": "stdout",
          "text": [
            "Regional Performance (Sorted by Profit Margin) -\n",
            "                  Sales        Profit  Profit Margin\n",
            "Region                                              \n",
            "Canada            66932   17817.39000      26.620137\n",
            "North Asia       848349  165578.42100      19.517725\n",
            "Central Asia     752839  132480.18700      17.597413\n",
            "North           1248192  194597.95252      15.590386\n",
            "West             725514  108418.44890      14.943674\n",
            "East             678834   91522.78000      13.482351\n",
            "Africa           783776   88871.63100      11.338907\n",
            "Central         2822399  311403.98164      11.033308\n",
            "Oceania         1100207  120089.11200      10.915138\n",
            "Caribbean        324281   34571.32104      10.660915\n",
            "South           1600960  140355.76618       8.766975\n",
            "EMEA             806184   43897.97100       5.445155\n",
            "Southeast Asia   884438   17852.32900       2.018494\n"
          ]
        }
      ]
    },
    {
      "cell_type": "code",
      "source": [
        "import sqlite3\n",
        "conn = sqlite3.connect('sales_database.db')\n",
        "\n",
        "df.to_sql('sales', conn, if_exists='replace', index=False)\n",
        "\n",
        "sql_query = \"\"\"\n",
        "SELECT\n",
        "    Region,\n",
        "    SUM(Sales) AS TotalSales,\n",
        "    SUM(Profit) AS TotalProfit,\n",
        "    (SUM(Profit) / SUM(Sales)) * 100 AS ProfitMargin\n",
        "FROM\n",
        "    sales\n",
        "GROUP BY\n",
        "    Region\n",
        "ORDER BY\n",
        "    ProfitMargin DESC;\n",
        "\"\"\"\n",
        "\n",
        "sql_results = pd.read_sql_query(sql_query, conn)\n",
        "print(\"\\n--- Regional Performance Results using SQL ---\")\n",
        "print(sql_results)\n",
        "\n",
        "\n",
        "conn.close()"
      ],
      "metadata": {
        "colab": {
          "base_uri": "https://localhost:8080/"
        },
        "id": "TfM1jo2xwEKy",
        "outputId": "24e1ce3b-c95a-4564-c98e-841b2631a3f3"
      },
      "execution_count": 8,
      "outputs": [
        {
          "output_type": "stream",
          "name": "stdout",
          "text": [
            "\n",
            "--- Regional Performance Results using SQL ---\n",
            "            Region  TotalSales   TotalProfit  ProfitMargin\n",
            "0           Canada       66932   17817.39000     26.620137\n",
            "1       North Asia      848349  165578.42100     19.517725\n",
            "2     Central Asia      752839  132480.18700     17.597413\n",
            "3            North     1248192  194597.95252     15.590386\n",
            "4             West      725514  108418.44890     14.943674\n",
            "5             East      678834   91522.78000     13.482351\n",
            "6           Africa      783776   88871.63100     11.338907\n",
            "7          Central     2822399  311403.98164     11.033308\n",
            "8          Oceania     1100207  120089.11200     10.915138\n",
            "9        Caribbean      324281   34571.32104     10.660915\n",
            "10           South     1600960  140355.76618      8.766975\n",
            "11            EMEA      806184   43897.97100      5.445155\n",
            "12  Southeast Asia      884438   17852.32900      2.018494\n"
          ]
        }
      ]
    },
    {
      "cell_type": "code",
      "source": [
        "# --- SAVE THE CLEANED DATA TO GOOGLE DRIVE ---\n",
        "save_path = '/content/drive/MyDrive/My Data Analytics Project/cleaned_superstore_data.csv'\n",
        "\n",
        "df.to_csv(save_path, index=False)\n",
        "\n",
        "print(f\"Success! cleaned data has been saved to your Google Drive.\")\n",
        "print(f\"now find it at this path: {save_path}\")"
      ],
      "metadata": {
        "colab": {
          "base_uri": "https://localhost:8080/"
        },
        "id": "rA19pOefwMtW",
        "outputId": "e0c47a0b-3e03-44e4-ffa3-8b32bfc3a25b"
      },
      "execution_count": 9,
      "outputs": [
        {
          "output_type": "stream",
          "name": "stdout",
          "text": [
            "Success! cleaned data has been saved to your Google Drive.\n",
            "now find it at this path: /content/drive/MyDrive/My Data Analytics Project/cleaned_superstore_data.csv\n"
          ]
        }
      ]
    }
  ]
}